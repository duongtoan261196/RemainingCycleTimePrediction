{
 "cells": [
  {
   "cell_type": "code",
   "execution_count": null,
   "id": "63a84800",
   "metadata": {},
   "outputs": [],
   "source": [
    "import os\n",
    "from os.path import dirname\n",
    "root_path = dirname(dirname(os.getcwd()))\n",
    "print(root_path)\n",
    "import sys\n",
    "sys.path.append(root_path + '/RemainingCycleTimePrediction/2_Scripts/')\n",
    "import pandas as pd\n",
    "import numpy as np\n",
    "import time, datetime\n",
    "\n",
    "import torch\n",
    "from torch.utils.data import Dataset\n",
    "from torch.utils.data import DataLoader\n",
    "from torch.utils.data import Subset\n",
    "from sklearn.model_selection import train_test_split\n",
    "\n",
    "from Event_log_processing_utils import Extract_trace_and_temporal_features, Extract_prefix\n",
    "from sklearn.preprocessing import OneHotEncoder\n",
    "\n",
    "import warnings\n",
    "warnings.filterwarnings(\"ignore\")\n",
    "\n",
    "\n",
    "data_dir = root_path + '/RemainingCycleTimePrediction/1_Data/'\n",
    "project_dir = root_path + '/RemainingCycleTimePrediction/'"
   ]
  },
  {
   "cell_type": "markdown",
   "id": "da3ebc6a",
   "metadata": {},
   "source": [
    "## Load data"
   ]
  },
  {
   "cell_type": "code",
   "execution_count": null,
   "id": "a4454ab9",
   "metadata": {},
   "outputs": [],
   "source": [
    "# data_name = 'BPIC20'\n",
    "data_name = 'Helpdesk'"
   ]
  },
  {
   "cell_type": "code",
   "execution_count": null,
   "id": "813ce3e1",
   "metadata": {},
   "outputs": [],
   "source": [
    "tab_all = pd.read_csv(data_dir+data_name+\"_processed_all.csv\")\n",
    "tab_train= pd.read_csv(data_dir+data_name+\"_processed_train.csv\")\n",
    "tab_test = pd.read_csv(data_dir+data_name+\"_processed_test.csv\")"
   ]
  },
  {
   "cell_type": "code",
   "execution_count": null,
   "id": "36cf8923",
   "metadata": {},
   "outputs": [],
   "source": [
    "data_dir+data_name+\"_processed_all.csv\""
   ]
  },
  {
   "cell_type": "markdown",
   "id": "14fdee1e",
   "metadata": {},
   "source": [
    "## Prepare inputs and outputs for model training"
   ]
  },
  {
   "cell_type": "code",
   "execution_count": null,
   "id": "8d5d61e8",
   "metadata": {},
   "outputs": [],
   "source": [
    "def Prepare_X_Y_remaining_time(tab, list_activities, encoder, divisor, divisor2, divisor_rt):\n",
    "    lines, lines_t, lines_t2, lines_t3, lines_t4 = Extract_trace_and_temporal_features(tab)\n",
    "    prefixes, outputs = Extract_prefix(lines, lines_t, lines_t2, lines_t3, lines_t4)\n",
    "    num_samples = len(prefixes[0])\n",
    "    list_features = []\n",
    "    list_edge_idx = []\n",
    "    list_edge_weight = []\n",
    "    list_rt = []\n",
    "    for i, sentence in enumerate(prefixes[0]):\n",
    "        list_rt.append(outputs[2][i]/divisor_rt)\n",
    "        x = torch.zeros(len(sentence), len(list_activities)+5)\n",
    "        edge_weight = []\n",
    "        edge_idx = []\n",
    "        sentence_t = prefixes[1][i]\n",
    "        sentence_t2 = prefixes[2][i]\n",
    "        sentence_t3 = prefixes[3][i]\n",
    "        sentence_t4 = prefixes[4][i]\n",
    "        for j, char in enumerate(sentence):\n",
    "            x[j, :len(list_activities)] = torch.from_numpy(encoder.transform(np.array([[char]])).toarray()[0]) \n",
    "            x[j, len(list_activities)] = j+1\n",
    "            x[j, len(list_activities)+1] = sentence_t[j]/divisor\n",
    "            x[j, len(list_activities)+2] = sentence_t2[j]/divisor2\n",
    "            x[j, len(list_activities)+3] = sentence_t3[j]/86400\n",
    "            x[j, len(list_activities)+4] = sentence_t4[j]/7\n",
    "            if j < len(sentence)-1:\n",
    "                if sentence[j] == sentence[j+1]:\n",
    "                    weight = 0\n",
    "                elif sentence[j+1] in sentence[:j+1]:\n",
    "                    weight = -1\n",
    "                else:\n",
    "                    weight = 1\n",
    "                edge_weight.append(weight)\n",
    "                edge_idx.append([j, j+1])\n",
    "        list_features.append(x)\n",
    "        list_edge_idx.append(torch.tensor(edge_idx).t())\n",
    "        list_edge_weight.append(torch.tensor(edge_weight).t())\n",
    "    return [list_features, list_edge_idx, list_edge_weight], torch.tensor(list_rt)\n",
    "\n",
    "class EventLogData(Dataset):\n",
    "    def __init__ (self, input_x, output):\n",
    "        self.X = input_x[0]\n",
    "        self.A = input_x[1]\n",
    "        self.V = input_x[2]\n",
    "        self.y = output\n",
    "        self.y = self.y.to(torch.float32)\n",
    "        self.y = self.y.reshape((len(self.y),1))\n",
    "\n",
    "    #get the number of rows in the dataset\n",
    "    def __len__(self):\n",
    "        return len(self.X)\n",
    "\n",
    "    #get a row at a particular index in the dataset\n",
    "    def __getitem__ (self,idx):\n",
    "        return [[self.X[idx], self.A[idx], self.V[idx]],self.y[idx]]\n",
    "    \n",
    "     # get the indices for the train and test rows\n",
    "    def get_splits(self, n_valid = 0.2):\n",
    "        train_idx,valid_idx = train_test_split(list(range(len(self.X))),test_size = n_valid, shuffle = True)\n",
    "        train = Subset(self, train_idx)\n",
    "        valid = Subset(self, valid_idx)\n",
    "        return train, valid\n",
    "    \n",
    "def my_collate(batch):\n",
    "    data = [item[0] for item in batch]\n",
    "    Y = [item[1] for item in batch]\n",
    "    return [data, Y]"
   ]
  },
  {
   "cell_type": "code",
   "execution_count": null,
   "id": "2437d260",
   "metadata": {},
   "outputs": [],
   "source": [
    "list_activities = list(tab_all[\"Activity\"].unique())\n",
    "#creating instance of one-hot-encoder and fit on the whole dataset\n",
    "encoder = OneHotEncoder(handle_unknown='ignore')\n",
    "encoder.fit(np.array(list_activities).reshape((len(list_activities), 1)))\n",
    "\n",
    "lines, lines_t, lines_t2, lines_t3, lines_t4 = Extract_trace_and_temporal_features(tab_all)\n",
    "maxlen = max([len(x) for x in lines]) #find maximum line size\n",
    "lines, lines_t, lines_t2, lines_t3, lines_t4 = Extract_trace_and_temporal_features(tab_train)\n",
    "divisor = np.mean([item for sublist in lines_t for item in sublist]) #average time between events\n",
    "print('divisor: {}'.format(divisor))\n",
    "divisor2 = np.mean([item for sublist in lines_t2 for item in sublist]) #average time between current and first events\n",
    "print('divisor2: {}'.format(divisor2))\n",
    "prefixes, outputs = Extract_prefix(lines, lines_t, lines_t2, lines_t3, lines_t4)\n",
    "divisor_rt = np.mean(outputs[2])\n",
    "print('divisor_rt: {}'.format(divisor_rt))"
   ]
  },
  {
   "cell_type": "code",
   "execution_count": null,
   "id": "7760d0f9",
   "metadata": {},
   "outputs": [],
   "source": [
    "X_train, Y_train = Prepare_X_Y_remaining_time(tab_train, list_activities, encoder, divisor, divisor2, divisor_rt)\n",
    "train_dataset = EventLogData(X_train, Y_train)\n",
    "train, valid = train_dataset.get_splits()\n",
    "train_dl = DataLoader(train, batch_size=16, shuffle = True, collate_fn=my_collate)\n",
    "valid_dl = DataLoader(valid, batch_size=1, shuffle = False, collate_fn=my_collate)\n",
    "\n",
    "X_test, Y_test = Prepare_X_Y_remaining_time(tab_test, list_activities, encoder, divisor, divisor2, divisor_rt)\n",
    "test = EventLogData(X_test, Y_test)\n",
    "test_dl = DataLoader(test, batch_size=1, shuffle = False, collate_fn=my_collate)"
   ]
  },
  {
   "cell_type": "code",
   "execution_count": null,
   "id": "5773d066",
   "metadata": {},
   "outputs": [],
   "source": [
    "len(X_train[0])"
   ]
  },
  {
   "cell_type": "code",
   "execution_count": null,
   "id": "8e663db8",
   "metadata": {},
   "outputs": [],
   "source": [
    "len(X_test[0])"
   ]
  },
  {
   "cell_type": "code",
   "execution_count": null,
   "id": "826d9f15",
   "metadata": {},
   "outputs": [],
   "source": [
    "len(valid_dl)"
   ]
  },
  {
   "cell_type": "markdown",
   "id": "35f4d124",
   "metadata": {},
   "source": [
    "## Train GGNN model"
   ]
  },
  {
   "cell_type": "code",
   "execution_count": null,
   "id": "7776f31f",
   "metadata": {},
   "outputs": [],
   "source": [
    "import torch.nn as nn\n",
    "from torch_geometric.nn import GatedGraphConv, global_mean_pool"
   ]
  },
  {
   "cell_type": "code",
   "execution_count": null,
   "id": "734bb2b8",
   "metadata": {},
   "outputs": [],
   "source": [
    "class TimePredictor(torch.nn.Module):\n",
    "    def __init__(self, out_channels=15):\n",
    "        super(TimePredictor, self).__init__()\n",
    "\n",
    "        self.layer1 = GatedGraphConv(out_channels, num_layers=5)\n",
    "        self.layer2 = nn.Sequential(\n",
    "            nn.Dropout(),\n",
    "            nn.Linear(out_channels,256),\n",
    "            nn.ReLU(),\n",
    "            nn.Linear(256,256),\n",
    "            nn.ReLU(),\n",
    "            nn.Dropout(),\n",
    "            nn.Linear(256,1),\n",
    "        )\n",
    "\n",
    "    def forward(self, x):\n",
    "        x = [self.layer1(X, A, V) for i, (X, A, V ) in enumerate(x)]\n",
    "        x = torch.stack([global_mean_pool(single_x, batch = None) for single_x in x])\n",
    "        x = x.squeeze(1)\n",
    "        x = self.layer2(x)\n",
    "        return x"
   ]
  },
  {
   "cell_type": "code",
   "execution_count": null,
   "id": "5c7282e7",
   "metadata": {
    "scrolled": true
   },
   "outputs": [],
   "source": [
    "device = 'cuda' if torch.cuda.is_available() else 'cpu'\n",
    "save_folder = project_dir + '4_Outputs/Output_files/'+data_name+'_GGNN'\n",
    "if not os.path.exists(project_dir + '4_Outputs/Output_files'):\n",
    "    os.mkdir(project_dir + '4_Outputs/Output_files')\n",
    "if not os.path.exists(save_folder):\n",
    "    os.mkdir(save_folder)\n",
    "\n",
    "num_features = len(list_activities)+5\n",
    "num_epochs = 100\n",
    "early_stop_patience = 10\n",
    "min_delta = 0\n",
    "lr_value = 1e-03\n",
    "num_runs = 5\n",
    "running_time = []\n",
    "for run in range(num_runs):\n",
    "    start=datetime.datetime.now()\n",
    "    print(\"Run: {}\".format(run+1))\n",
    "    model = TimePredictor(num_features)  \n",
    "    criterion = nn.L1Loss()\n",
    "    optimizer = torch.optim.Adam(model.parameters(),lr=lr_value)\n",
    "\n",
    "    model = model.to(device)\n",
    "    epochs_plt = []\n",
    "    mae_plt = []\n",
    "    valid_loss_plt = []\n",
    "    not_improved_count = 0\n",
    "\n",
    "    for epoch in range(num_epochs):\n",
    "        model.train()\n",
    "        training_loss = 0\n",
    "        predictions, actuals = list(),list()\n",
    "        num_train = 0\n",
    "\n",
    "        for i, (inputs,targets) in enumerate(train_dl):\n",
    "            targets = torch.tensor(targets).to(device)\n",
    "            optimizer.zero_grad() # Clearing the gradients\n",
    "            yhat = model(inputs)\n",
    "            loss = criterion(yhat.reshape((1,-1)),targets.reshape((1,-1)))\n",
    "            loss.backward()\n",
    "            optimizer.step()\n",
    "\n",
    "            training_loss+= loss.item()\n",
    "            num_train+=1\n",
    "\n",
    "        with torch.no_grad():\n",
    "            model.eval()\n",
    "            num_valid = 0\n",
    "            validation_loss = 0\n",
    "            for i,(inputs,targets) in enumerate(valid_dl):            \n",
    "                targets = torch.tensor(targets).to(device)\n",
    "                yhat_valid = model(inputs)           \n",
    "                loss_valid = criterion(yhat_valid.reshape((1,-1)),targets.reshape((1,-1)))\n",
    "                validation_loss+= loss_valid.item()\n",
    "                num_valid+= 1\n",
    "\n",
    "        avg_training_loss = training_loss/num_train\n",
    "        avg_validation_loss = validation_loss/num_valid\n",
    "        print(\"Epoch: {}, Training MAE : {}, Validation loss : {}\".format(epoch,avg_training_loss,avg_validation_loss))\n",
    "        epochs_plt.append(epoch+1)\n",
    "        mae_plt.append(avg_training_loss)\n",
    "        valid_loss_plt.append(avg_validation_loss)\n",
    "        if (epoch==0): \n",
    "            best_loss = avg_validation_loss\n",
    "            torch.save(model.state_dict(),'{}/best_model_run_{}.pt'.format(save_folder,run+1))\n",
    "        else:\n",
    "            if (best_loss - avg_validation_loss >= min_delta):\n",
    "                torch.save(model.state_dict(),'{}/best_model_run_{}.pt'.format(save_folder,run+1))\n",
    "                best_loss = avg_validation_loss\n",
    "                not_improved_count = 0\n",
    "            else:\n",
    "                not_improved_count += 1\n",
    "\n",
    "       # Early stopping\n",
    "        if not_improved_count == early_stop_patience:\n",
    "            print(\"Validation performance didn\\'t improve for {} epochs. \"\n",
    "                            \"Training stops.\".format(early_stop_patience))\n",
    "            break\n",
    "            \n",
    "    filepath = '{}/Loss_'.format(save_folder)+data_name+'_run_{}.txt'.format(run+1)\n",
    "    with open(filepath, 'w') as file:\n",
    "        for item in zip(epochs_plt,mae_plt,valid_loss_plt):\n",
    "            file.write(\"{}\\n\".format(item))\n",
    "    running_time.append((datetime.datetime.now()-start).total_seconds())"
   ]
  },
  {
   "cell_type": "code",
   "execution_count": null,
   "id": "8de841a5",
   "metadata": {},
   "outputs": [],
   "source": [
    "running_time"
   ]
  },
  {
   "cell_type": "code",
   "execution_count": null,
   "id": "c2103fd3",
   "metadata": {},
   "outputs": [],
   "source": [
    "np.mean(running_time)/60"
   ]
  },
  {
   "cell_type": "markdown",
   "id": "6f5ed967",
   "metadata": {},
   "source": [
    "### 3. Evaluation"
   ]
  },
  {
   "cell_type": "code",
   "execution_count": null,
   "id": "3905c77f",
   "metadata": {},
   "outputs": [],
   "source": [
    "def evaluate_model(model):\n",
    "    err_dict = {}\n",
    "    with torch.no_grad():\n",
    "        model.eval()\n",
    "        testing_loss_all = 0\n",
    "        num_of_minibatch = 0\n",
    "        for i,(inputs,targets) in enumerate(test_dl):\n",
    "            prefix_len = inputs[0][0].size(0)\n",
    "            targets = torch.tensor(targets).to(device)\n",
    "            yhat = model(inputs)\n",
    "            loss_mape = torch.abs((targets.reshape((1,-1)) - yhat.reshape((1,-1)))/targets.reshape((1,-1)))*100\n",
    "            criterion = nn.L1Loss()\n",
    "            loss_mae = criterion(yhat.reshape((1,-1)),targets.reshape((1,-1))).item()\n",
    "            if prefix_len not in err_dict.keys():\n",
    "                err_dict[prefix_len] = [[loss_mape, loss_mae]]\n",
    "            else:\n",
    "                err_dict[prefix_len].append([loss_mape, loss_mae])\n",
    "    return err_dict"
   ]
  },
  {
   "cell_type": "code",
   "execution_count": null,
   "id": "cb9225ca",
   "metadata": {},
   "outputs": [],
   "source": [
    "err_total_dict = {}\n",
    "print(save_folder)\n",
    "for run in range(5):\n",
    "    print(\"Run: {}\".format(run+1))\n",
    "    trained_model = TimePredictor(num_features)\n",
    "    trained_model.load_state_dict(torch.load('{}/best_model_run_{}.pt'.format(save_folder,run+1),\n",
    "                                         map_location=torch.device(device)))\n",
    "    err_dict = evaluate_model(trained_model)\n",
    "    \n",
    "    for key in err_dict.keys():\n",
    "        err = torch.mean(torch.tensor(err_dict[key]), axis = 0)\n",
    "        if key in err_total_dict.keys():\n",
    "            err_total_dict[key].append(torch.tensor([err[0], err[1]*divisor_rt/86400]))\n",
    "        else:\n",
    "            err_total_dict[key] = [torch.tensor([err[0], err[1]*divisor_rt/86400])]"
   ]
  },
  {
   "cell_type": "code",
   "execution_count": null,
   "id": "039c3034",
   "metadata": {},
   "outputs": [],
   "source": [
    "num_samples_dict = {}\n",
    "for i,(inputs,targets) in enumerate(test_dl):\n",
    "    key = inputs[0][0].size(0)\n",
    "    if key in num_samples_dict.keys():\n",
    "        num_samples_dict[key] += 1\n",
    "    else:\n",
    "        num_samples_dict[key] = 1"
   ]
  },
  {
   "cell_type": "code",
   "execution_count": null,
   "id": "cb8d6d25",
   "metadata": {},
   "outputs": [],
   "source": [
    "err_total_dict[key][0]"
   ]
  },
  {
   "cell_type": "code",
   "execution_count": null,
   "id": "15fbc435",
   "metadata": {},
   "outputs": [],
   "source": [
    "list_prefix_len = []\n",
    "list_num_samples = []\n",
    "list_mape_err = []\n",
    "list_mape_std = []\n",
    "list_mae_err = []\n",
    "list_mae_std = []\n",
    "for key, value in err_total_dict.items():\n",
    "    list_prefix_len.append(key)\n",
    "    list_num_samples.append(num_samples_dict[key])\n",
    "    list_mape_err.append(round(torch.stack(err_total_dict[key]).mean(axis = 0)[0].item(), 3))\n",
    "    list_mape_std.append(round(torch.stack(err_total_dict[key]).std(axis=0)[0].item(), 3))\n",
    "    list_mae_err.append(round(torch.stack(err_total_dict[key]).mean(axis = 0)[1].item(), 3))\n",
    "    list_mae_std.append(round(torch.stack(err_total_dict[key]).std(axis=0)[1].item(), 3))\n",
    "tab_result = pd.DataFrame({\"Prefix length\":list_prefix_len, \"Num samples\": list_num_samples, \n",
    "                           \"MAPE(%)\":list_mape_err, \"MAPE std\": list_mape_std,\n",
    "                           \"MAE(days)\": list_mae_err, \"MAE std\": list_mae_std})\n",
    "\n",
    "if not os.path.exists(project_dir + '4_Outputs/Evaluation'):\n",
    "    os.mkdir(project_dir + '4_Outputs/Evaluation')\n",
    "tab_result.to_csv(project_dir+\"4_Outputs/Evaluation/\"+data_name+\"_GGNN_eval.csv\", index = False)"
   ]
  },
  {
   "cell_type": "code",
   "execution_count": null,
   "id": "ddd06053",
   "metadata": {},
   "outputs": [],
   "source": []
  },
  {
   "cell_type": "code",
   "execution_count": null,
   "id": "7ea13461",
   "metadata": {},
   "outputs": [],
   "source": []
  },
  {
   "cell_type": "code",
   "execution_count": null,
   "id": "0f25f0f2",
   "metadata": {},
   "outputs": [],
   "source": []
  },
  {
   "cell_type": "code",
   "execution_count": null,
   "id": "0b70b872",
   "metadata": {},
   "outputs": [],
   "source": []
  }
 ],
 "metadata": {
  "kernelspec": {
   "display_name": "Python 3",
   "language": "python",
   "name": "python3"
  },
  "language_info": {
   "codemirror_mode": {
    "name": "ipython",
    "version": 3
   },
   "file_extension": ".py",
   "mimetype": "text/x-python",
   "name": "python",
   "nbconvert_exporter": "python",
   "pygments_lexer": "ipython3",
   "version": "3.8.8"
  }
 },
 "nbformat": 4,
 "nbformat_minor": 5
}
