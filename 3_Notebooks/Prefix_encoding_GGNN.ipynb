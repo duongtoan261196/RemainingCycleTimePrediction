{
 "cells": [
  {
   "cell_type": "code",
   "execution_count": 2,
   "id": "77dfd5a5",
   "metadata": {},
   "outputs": [
    {
     "name": "stdout",
     "output_type": "stream",
     "text": [
      "/home/ec2-user\n",
      "/home/ec2-user\n",
      "cuda:0\n"
     ]
    }
   ],
   "source": [
    "import os\n",
    "from os.path import dirname\n",
    "root_path = dirname(dirname(os.getcwd()))\n",
    "print(root_path)\n",
    "import sys\n",
    "sys.path.append(root_path + '/RemainingCycleTimePrediction/2_Scripts/')\n",
    "import pandas as pd\n",
    "import numpy as np\n",
    "import time, datetime\n",
    "import pickle as pkl\n",
    "import itertools\n",
    "from sklearn.preprocessing import OneHotEncoder\n",
    "\n",
    "import torch\n",
    "from torch.utils.data import Dataset\n",
    "from torch.utils.data import DataLoader\n",
    "from torch.utils.data import Subset\n",
    "from sklearn.model_selection import train_test_split\n",
    "\n",
    "from Event_log_processing_utils import Extract_trace_and_temporal_features, Extract_prefix\n",
    "\n",
    "import warnings\n",
    "warnings.filterwarnings(\"ignore\")\n",
    "\n",
    "data_dir = root_path + '/RemainingCycleTimePrediction/1_Data/'\n",
    "project_dir = root_path + '/RemainingCycleTimePrediction/'\n",
    "\n",
    "device = torch.device(\"cuda:0\" if torch.cuda.is_available() else \"cpu\")\n",
    "print(device)"
   ]
  },
  {
   "cell_type": "code",
   "execution_count": 4,
   "id": "b9d5289a",
   "metadata": {},
   "outputs": [],
   "source": [
    "data_name = 'BPIC20'"
   ]
  },
  {
   "cell_type": "code",
   "execution_count": 6,
   "id": "cf502b55",
   "metadata": {},
   "outputs": [
    {
     "data": {
      "text/html": [
       "<div>\n",
       "<style scoped>\n",
       "    .dataframe tbody tr th:only-of-type {\n",
       "        vertical-align: middle;\n",
       "    }\n",
       "\n",
       "    .dataframe tbody tr th {\n",
       "        vertical-align: top;\n",
       "    }\n",
       "\n",
       "    .dataframe thead th {\n",
       "        text-align: right;\n",
       "    }\n",
       "</style>\n",
       "<table border=\"1\" class=\"dataframe\">\n",
       "  <thead>\n",
       "    <tr style=\"text-align: right;\">\n",
       "      <th></th>\n",
       "      <th>Case_ID</th>\n",
       "      <th>Activity</th>\n",
       "      <th>timestamp</th>\n",
       "    </tr>\n",
       "  </thead>\n",
       "  <tbody>\n",
       "    <tr>\n",
       "      <th>0</th>\n",
       "      <td>declaration 100000</td>\n",
       "      <td>Declaration SUBMITTED by EMPLOYEE</td>\n",
       "      <td>2018/01/30 08:20:07</td>\n",
       "    </tr>\n",
       "    <tr>\n",
       "      <th>1</th>\n",
       "      <td>declaration 100000</td>\n",
       "      <td>Declaration APPROVED by ADMINISTRATION</td>\n",
       "      <td>2018/02/07 08:58:46</td>\n",
       "    </tr>\n",
       "    <tr>\n",
       "      <th>2</th>\n",
       "      <td>declaration 100000</td>\n",
       "      <td>Declaration FINAL_APPROVED by SUPERVISOR</td>\n",
       "      <td>2018/02/08 09:59:05</td>\n",
       "    </tr>\n",
       "    <tr>\n",
       "      <th>3</th>\n",
       "      <td>declaration 100000</td>\n",
       "      <td>Request Payment</td>\n",
       "      <td>2018/02/09 11:42:49</td>\n",
       "    </tr>\n",
       "    <tr>\n",
       "      <th>4</th>\n",
       "      <td>declaration 100000</td>\n",
       "      <td>Payment Handled</td>\n",
       "      <td>2018/02/12 16:31:20</td>\n",
       "    </tr>\n",
       "  </tbody>\n",
       "</table>\n",
       "</div>"
      ],
      "text/plain": [
       "              Case_ID                                  Activity  \\\n",
       "0  declaration 100000         Declaration SUBMITTED by EMPLOYEE   \n",
       "1  declaration 100000    Declaration APPROVED by ADMINISTRATION   \n",
       "2  declaration 100000  Declaration FINAL_APPROVED by SUPERVISOR   \n",
       "3  declaration 100000                           Request Payment   \n",
       "4  declaration 100000                           Payment Handled   \n",
       "\n",
       "             timestamp  \n",
       "0  2018/01/30 08:20:07  \n",
       "1  2018/02/07 08:58:46  \n",
       "2  2018/02/08 09:59:05  \n",
       "3  2018/02/09 11:42:49  \n",
       "4  2018/02/12 16:31:20  "
      ]
     },
     "execution_count": 6,
     "metadata": {},
     "output_type": "execute_result"
    }
   ],
   "source": [
    "tab_all = pd.read_csv(data_dir+data_name+\"_processed_all.csv\")\n",
    "tab_train= pd.read_csv(data_dir+data_name+\"_processed_train.csv\")\n",
    "tab_valid = pd.read_csv(data_dir+data_name+\"_processed_valid.csv\")\n",
    "tab_test = pd.read_csv(data_dir+data_name+\"_processed_test.csv\")\n",
    "tab_all.head()"
   ]
  },
  {
   "cell_type": "code",
   "execution_count": 7,
   "id": "522f636c",
   "metadata": {},
   "outputs": [
    {
     "name": "stdout",
     "output_type": "stream",
     "text": [
      "divisor: 186876.67318961537\n",
      "divisor2: 500163.77877614804\n",
      "divisor_rt: 623219.332072227\n"
     ]
    }
   ],
   "source": [
    "list_activities = list(tab_all[\"Activity\"].unique())\n",
    "\n",
    "lines, lines_t, lines_t2, lines_t3, lines_t4 = Extract_trace_and_temporal_features(tab_all)\n",
    "maxlen = max([len(x) for x in lines]) #find maximum line size\n",
    "lines, lines_t, lines_t2, lines_t3, lines_t4 = Extract_trace_and_temporal_features(tab_train)\n",
    "divisor = np.mean([item for sublist in lines_t for item in sublist]) #average time between events\n",
    "print('divisor: {}'.format(divisor))\n",
    "divisor2 = np.mean([item for sublist in lines_t2 for item in sublist]) #average time between current and first events\n",
    "print('divisor2: {}'.format(divisor2))\n",
    "prefixes, outputs = Extract_prefix(lines, lines_t, lines_t2, lines_t3, lines_t4)\n",
    "divisor_rt = np.mean(outputs[2])\n",
    "print('divisor_rt: {}'.format(divisor_rt))"
   ]
  },
  {
   "cell_type": "code",
   "execution_count": 8,
   "id": "adc5a94f",
   "metadata": {},
   "outputs": [
    {
     "data": {
      "text/html": [
       "<style>#sk-container-id-1 {color: black;background-color: white;}#sk-container-id-1 pre{padding: 0;}#sk-container-id-1 div.sk-toggleable {background-color: white;}#sk-container-id-1 label.sk-toggleable__label {cursor: pointer;display: block;width: 100%;margin-bottom: 0;padding: 0.3em;box-sizing: border-box;text-align: center;}#sk-container-id-1 label.sk-toggleable__label-arrow:before {content: \"▸\";float: left;margin-right: 0.25em;color: #696969;}#sk-container-id-1 label.sk-toggleable__label-arrow:hover:before {color: black;}#sk-container-id-1 div.sk-estimator:hover label.sk-toggleable__label-arrow:before {color: black;}#sk-container-id-1 div.sk-toggleable__content {max-height: 0;max-width: 0;overflow: hidden;text-align: left;background-color: #f0f8ff;}#sk-container-id-1 div.sk-toggleable__content pre {margin: 0.2em;color: black;border-radius: 0.25em;background-color: #f0f8ff;}#sk-container-id-1 input.sk-toggleable__control:checked~div.sk-toggleable__content {max-height: 200px;max-width: 100%;overflow: auto;}#sk-container-id-1 input.sk-toggleable__control:checked~label.sk-toggleable__label-arrow:before {content: \"▾\";}#sk-container-id-1 div.sk-estimator input.sk-toggleable__control:checked~label.sk-toggleable__label {background-color: #d4ebff;}#sk-container-id-1 div.sk-label input.sk-toggleable__control:checked~label.sk-toggleable__label {background-color: #d4ebff;}#sk-container-id-1 input.sk-hidden--visually {border: 0;clip: rect(1px 1px 1px 1px);clip: rect(1px, 1px, 1px, 1px);height: 1px;margin: -1px;overflow: hidden;padding: 0;position: absolute;width: 1px;}#sk-container-id-1 div.sk-estimator {font-family: monospace;background-color: #f0f8ff;border: 1px dotted black;border-radius: 0.25em;box-sizing: border-box;margin-bottom: 0.5em;}#sk-container-id-1 div.sk-estimator:hover {background-color: #d4ebff;}#sk-container-id-1 div.sk-parallel-item::after {content: \"\";width: 100%;border-bottom: 1px solid gray;flex-grow: 1;}#sk-container-id-1 div.sk-label:hover label.sk-toggleable__label {background-color: #d4ebff;}#sk-container-id-1 div.sk-serial::before {content: \"\";position: absolute;border-left: 1px solid gray;box-sizing: border-box;top: 0;bottom: 0;left: 50%;z-index: 0;}#sk-container-id-1 div.sk-serial {display: flex;flex-direction: column;align-items: center;background-color: white;padding-right: 0.2em;padding-left: 0.2em;position: relative;}#sk-container-id-1 div.sk-item {position: relative;z-index: 1;}#sk-container-id-1 div.sk-parallel {display: flex;align-items: stretch;justify-content: center;background-color: white;position: relative;}#sk-container-id-1 div.sk-item::before, #sk-container-id-1 div.sk-parallel-item::before {content: \"\";position: absolute;border-left: 1px solid gray;box-sizing: border-box;top: 0;bottom: 0;left: 50%;z-index: -1;}#sk-container-id-1 div.sk-parallel-item {display: flex;flex-direction: column;z-index: 1;position: relative;background-color: white;}#sk-container-id-1 div.sk-parallel-item:first-child::after {align-self: flex-end;width: 50%;}#sk-container-id-1 div.sk-parallel-item:last-child::after {align-self: flex-start;width: 50%;}#sk-container-id-1 div.sk-parallel-item:only-child::after {width: 0;}#sk-container-id-1 div.sk-dashed-wrapped {border: 1px dashed gray;margin: 0 0.4em 0.5em 0.4em;box-sizing: border-box;padding-bottom: 0.4em;background-color: white;}#sk-container-id-1 div.sk-label label {font-family: monospace;font-weight: bold;display: inline-block;line-height: 1.2em;}#sk-container-id-1 div.sk-label-container {text-align: center;}#sk-container-id-1 div.sk-container {/* jupyter's `normalize.less` sets `[hidden] { display: none; }` but bootstrap.min.css set `[hidden] { display: none !important; }` so we also need the `!important` here to be able to override the default hidden behavior on the sphinx rendered scikit-learn.org. See: https://github.com/scikit-learn/scikit-learn/issues/21755 */display: inline-block !important;position: relative;}#sk-container-id-1 div.sk-text-repr-fallback {display: none;}</style><div id=\"sk-container-id-1\" class=\"sk-top-container\"><div class=\"sk-text-repr-fallback\"><pre>OneHotEncoder(handle_unknown=&#x27;ignore&#x27;)</pre><b>In a Jupyter environment, please rerun this cell to show the HTML representation or trust the notebook. <br />On GitHub, the HTML representation is unable to render, please try loading this page with nbviewer.org.</b></div><div class=\"sk-container\" hidden><div class=\"sk-item\"><div class=\"sk-estimator sk-toggleable\"><input class=\"sk-toggleable__control sk-hidden--visually\" id=\"sk-estimator-id-1\" type=\"checkbox\" checked><label for=\"sk-estimator-id-1\" class=\"sk-toggleable__label sk-toggleable__label-arrow\">OneHotEncoder</label><div class=\"sk-toggleable__content\"><pre>OneHotEncoder(handle_unknown=&#x27;ignore&#x27;)</pre></div></div></div></div></div>"
      ],
      "text/plain": [
       "OneHotEncoder(handle_unknown='ignore')"
      ]
     },
     "execution_count": 8,
     "metadata": {},
     "output_type": "execute_result"
    }
   ],
   "source": [
    "#creating instance of one-hot-encoder and fit on the whole dataset\n",
    "encoder = OneHotEncoder(handle_unknown='ignore')\n",
    "encoder.fit(np.array(list_activities).reshape((len(list_activities), 1)))"
   ]
  },
  {
   "cell_type": "code",
   "execution_count": 9,
   "id": "177ba037",
   "metadata": {},
   "outputs": [],
   "source": [
    "def Prepare_X_Y_remaining_time(tab, list_activities, encoder, divisor, divisor2, divisor_rt):\n",
    "    lines, lines_t, lines_t2, lines_t3, lines_t4 = Extract_trace_and_temporal_features(tab)\n",
    "    prefixes, outputs = Extract_prefix(lines, lines_t, lines_t2, lines_t3, lines_t4)\n",
    "    num_samples = len(prefixes[0])\n",
    "    list_features = []\n",
    "    list_edge_idx = []\n",
    "    list_edge_weight = []\n",
    "    list_rt = []\n",
    "    for i, sentence in enumerate(prefixes[0]):\n",
    "        list_rt.append(outputs[2][i]/divisor_rt)\n",
    "        x = torch.zeros(len(sentence), len(list_activities)+5)\n",
    "        edge_weight = []\n",
    "        edge_idx = []\n",
    "        sentence_t = prefixes[1][i]\n",
    "        sentence_t2 = prefixes[2][i]\n",
    "        sentence_t3 = prefixes[3][i]\n",
    "        sentence_t4 = prefixes[4][i]\n",
    "        for j, char in enumerate(sentence):\n",
    "            x[j, :len(list_activities)] = torch.from_numpy(encoder.transform(np.array([[char]])).toarray()[0]) \n",
    "            x[j, len(list_activities)] = j+1\n",
    "            x[j, len(list_activities)+1] = sentence_t[j]/divisor\n",
    "            x[j, len(list_activities)+2] = sentence_t2[j]/divisor2\n",
    "            x[j, len(list_activities)+3] = sentence_t3[j]/86400\n",
    "            x[j, len(list_activities)+4] = sentence_t4[j]/7\n",
    "            if j < len(sentence)-1:\n",
    "                if sentence[j] == sentence[j+1]:\n",
    "                    weight = 0\n",
    "                elif sentence[j+1] in sentence[:j+1]:\n",
    "                    weight = -1\n",
    "                else:\n",
    "                    weight = 1\n",
    "                edge_weight.append(weight)\n",
    "                edge_idx.append([j, j+1])\n",
    "        list_features.append(x)\n",
    "        list_edge_idx.append(torch.tensor(edge_idx).t().to(torch.long))\n",
    "        list_edge_weight.append(torch.tensor(edge_weight).t())\n",
    "    return [list_features, list_edge_idx, list_edge_weight], torch.tensor(list_rt)"
   ]
  },
  {
   "cell_type": "code",
   "execution_count": 10,
   "id": "70b357bf",
   "metadata": {},
   "outputs": [],
   "source": [
    "X_train, Y_train = Prepare_X_Y_remaining_time(tab_train, list_activities, encoder, divisor, divisor2, divisor_rt)\n",
    "X_valid, Y_valid = Prepare_X_Y_remaining_time(tab_valid, list_activities, encoder, divisor, divisor2, divisor_rt)\n",
    "X_test, Y_test = Prepare_X_Y_remaining_time(tab_test, list_activities, encoder, divisor, divisor2, divisor_rt)"
   ]
  },
  {
   "cell_type": "code",
   "execution_count": null,
   "id": "2424883e",
   "metadata": {},
   "outputs": [],
   "source": [
    "#to save it\n",
    "with open(data_dir+\"GGNN_\"+data_name+\"_train.pkl\", \"wb\") as f:\n",
    "    pkl.dump([X_train, Y_train], f)\n",
    "with open(data_dir+\"GGNN_\"+data_name+\"_valid.pkl\", \"wb\") as f:\n",
    "    pkl.dump([X_valid, Y_valid], f)\n",
    "with open(data_dir+\"GGNN_\"+data_name+\"_test.pkl\", \"wb\") as f:\n",
    "    pkl.dump([X_test, Y_test], f)"
   ]
  }
 ],
 "metadata": {
  "kernelspec": {
   "display_name": "Environment (conda_python3)",
   "language": "python",
   "name": "conda_python3"
  },
  "language_info": {
   "codemirror_mode": {
    "name": "ipython",
    "version": 3
   },
   "file_extension": ".py",
   "mimetype": "text/x-python",
   "name": "python",
   "nbconvert_exporter": "python",
   "pygments_lexer": "ipython3",
   "version": "3.9.13"
  }
 },
 "nbformat": 4,
 "nbformat_minor": 5
}
